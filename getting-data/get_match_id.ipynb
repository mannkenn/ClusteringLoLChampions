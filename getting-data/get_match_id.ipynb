{
 "cells": [
  {
   "cell_type": "code",
   "execution_count": 1,
   "id": "cc2605c1",
   "metadata": {},
   "outputs": [],
   "source": [
    "# Import goodies\n",
    "import pandas as pd\n",
    "import requests\n",
    "import time\n",
    "import os"
   ]
  },
  {
   "cell_type": "code",
   "execution_count": 2,
   "id": "fd9a51df",
   "metadata": {},
   "outputs": [
    {
     "data": {
      "text/html": [
       "<div>\n",
       "<style scoped>\n",
       "    .dataframe tbody tr th:only-of-type {\n",
       "        vertical-align: middle;\n",
       "    }\n",
       "\n",
       "    .dataframe tbody tr th {\n",
       "        vertical-align: top;\n",
       "    }\n",
       "\n",
       "    .dataframe thead th {\n",
       "        text-align: right;\n",
       "    }\n",
       "</style>\n",
       "<table border=\"1\" class=\"dataframe\">\n",
       "  <thead>\n",
       "    <tr style=\"text-align: right;\">\n",
       "      <th></th>\n",
       "      <th>puuids</th>\n",
       "    </tr>\n",
       "  </thead>\n",
       "  <tbody>\n",
       "    <tr>\n",
       "      <th>0</th>\n",
       "      <td>N2ozBh3M7rPJ7MNLIUUZti2TNNQNa9HVt8nccA5qOdRA_I...</td>\n",
       "    </tr>\n",
       "    <tr>\n",
       "      <th>1</th>\n",
       "      <td>kp6OquctT3Z1fiq5LXCkjIhCzDCmtPhFvFcPWFmlx5vBSg...</td>\n",
       "    </tr>\n",
       "    <tr>\n",
       "      <th>2</th>\n",
       "      <td>K3vSR48AlQiY2lhkPQGCAcibOeWx7JaQOTlBhoTyCb4OFt...</td>\n",
       "    </tr>\n",
       "    <tr>\n",
       "      <th>3</th>\n",
       "      <td>5HCO6cIKaVsUP1kt5eo4X-tkZ5sS4g5Qku8BcTUNmjErLG...</td>\n",
       "    </tr>\n",
       "    <tr>\n",
       "      <th>4</th>\n",
       "      <td>exIBv7Ib8IMdP0Wnckh_wXW5sneUcjwVh5QacnhpCwVux7...</td>\n",
       "    </tr>\n",
       "  </tbody>\n",
       "</table>\n",
       "</div>"
      ],
      "text/plain": [
       "                                              puuids\n",
       "0  N2ozBh3M7rPJ7MNLIUUZti2TNNQNa9HVt8nccA5qOdRA_I...\n",
       "1  kp6OquctT3Z1fiq5LXCkjIhCzDCmtPhFvFcPWFmlx5vBSg...\n",
       "2  K3vSR48AlQiY2lhkPQGCAcibOeWx7JaQOTlBhoTyCb4OFt...\n",
       "3  5HCO6cIKaVsUP1kt5eo4X-tkZ5sS4g5Qku8BcTUNmjErLG...\n",
       "4  exIBv7Ib8IMdP0Wnckh_wXW5sneUcjwVh5QacnhpCwVux7..."
      ]
     },
     "execution_count": 2,
     "metadata": {},
     "output_type": "execute_result"
    }
   ],
   "source": [
    "data = pd.read_csv(r\"C:\\Users\\toirt\\LeagueOfLegendsPrediction\\data\\puuids.csv\")\n",
    "df = pd.DataFrame(data)\n",
    "puuids_list = df['puuids'].tolist()\n",
    "df.head()"
   ]
  },
  {
   "cell_type": "code",
   "execution_count": 5,
   "id": "b47f5630",
   "metadata": {},
   "outputs": [],
   "source": [
    "# Getting api key, url\n",
    "api_key = os.environ.get('api_key')\n",
    "api_url = 'https://americas.api.riotgames.com/lol/match/v5/matches/by-puuid'"
   ]
  },
  {
   "cell_type": "code",
   "execution_count": 6,
   "id": "8fd89668",
   "metadata": {},
   "outputs": [],
   "source": [
    "# Getting match id\n",
    "def get_match_id(api_key, api_url, puuid, count):\n",
    "    '''\n",
    "    Get match id from player puuid \n",
    "    Count -> number of match ids to return\n",
    "    '''\n",
    "    match_url = '%s/%s/ids?queue=420&type=ranked&start=0&count=%d&api_key=%s' %(api_url, puuid, count, api_key)\n",
    "    while True:\n",
    "        resp = requests.get(match_url)\n",
    "        \n",
    "        if resp.status_code == 429:\n",
    "            time.sleep(10)\n",
    "            continue\n",
    "    \n",
    "        data = resp.json()\n",
    "        return data"
   ]
  },
  {
   "cell_type": "code",
   "execution_count": 7,
   "id": "6c86cdf8",
   "metadata": {},
   "outputs": [
    {
     "name": "stdout",
     "output_type": "stream",
     "text": [
      "Iteration: 732/732\r"
     ]
    }
   ],
   "source": [
    "# Write to txt file\n",
    "i = 0\n",
    "with open(r\"C:\\Users\\toirt\\LeagueOfLegendsPrediction\\data\\match_ids.txt\", 'a') as f:\n",
    "    for puuid in puuids_list:\n",
    "        i += 1\n",
    "        print(f\"Iteration: {i}/{len(puuids_list)}\", end='\\r')\n",
    "        for match in get_match_id(api_key, api_url, puuid, 100):\n",
    "            f.write(match + '\\n')"
   ]
  },
  {
   "cell_type": "code",
   "execution_count": null,
   "id": "1e1a95bb",
   "metadata": {},
   "outputs": [],
   "source": []
  }
 ],
 "metadata": {
  "kernelspec": {
   "display_name": "Python 3 (ipykernel)",
   "language": "python",
   "name": "python3"
  },
  "language_info": {
   "codemirror_mode": {
    "name": "ipython",
    "version": 3
   },
   "file_extension": ".py",
   "mimetype": "text/x-python",
   "name": "python",
   "nbconvert_exporter": "python",
   "pygments_lexer": "ipython3",
   "version": "3.11.5"
  }
 },
 "nbformat": 4,
 "nbformat_minor": 5
}
