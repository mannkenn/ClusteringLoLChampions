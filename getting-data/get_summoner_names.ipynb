{
 "cells": [
  {
   "cell_type": "code",
   "execution_count": 162,
   "metadata": {},
   "outputs": [],
   "source": [
    "# Import libs\n",
    "import pandas as pd\n",
    "import requests\n",
    "import os\n",
    "import time\n",
    "import random\n",
    "\n",
    "# api stuff\n",
    "api_url = \".api.riotgames.com/lol/league-exp/v4/entries/RANKED_SOLO_5x5\"\n",
    "api_key = os.environ.get('api_key')"
   ]
  },
  {
   "cell_type": "code",
   "execution_count": 6,
   "metadata": {},
   "outputs": [],
   "source": [
    "# Info\n",
    "regions = ['kr', 'euw1','na1'] # Major regions of world\n",
    "ranks = ['IRON', 'BRONZE', 'SILVER', 'GOLD', 'PLATINUM', 'EMERALD', 'DIAMOND', 'MASTER', 'GRANDMASTER', 'CHALLENGER'] # All ranks\n",
    "divisions = ['IV', 'III', 'II', 'I'] # All divisions"
   ]
  },
  {
   "cell_type": "code",
   "execution_count": 163,
   "metadata": {},
   "outputs": [],
   "source": [
    "# Getting player names\n",
    "def get_players(region, rank, division, page):\n",
    "    '''\n",
    "    Returns summoner names of players from specified region, rank, and division\n",
    "    '''\n",
    "    players_url = (\"https://%s%s/%s/%s?page=%d&api_key=%s\" % (region, api_url, rank, division, page, api_key))\n",
    "\n",
    "    while True:\n",
    "        resp = requests.get(players_url)\n",
    "        \n",
    "        if resp.status_code == 429:\n",
    "            time.sleep(5)\n",
    "            continue\n",
    "\n",
    "        data = resp.json()\n",
    "        return data"
   ]
  },
  {
   "cell_type": "code",
   "execution_count": null,
   "metadata": {},
   "outputs": [],
   "source": [
    "# Loop through all pages, ranks, and divisions\n",
    "df = pd.DataFrame()\n",
    "for page in range(1,6):\n",
    "    for rank in ranks:\n",
    "        if rank in ['MASTER', 'GRANDMASTER', 'CHALLENGER']:\n",
    "            if page > 1:\n",
    "                continue\n",
    "            else:\n",
    "                names_df = pd.DataFrame(get_players('kr', rank, 'I', page))[['summonerName', 'wins', 'losses']]\n",
    "                names_df['rank'] = (\"%s %s\" %(rank,'I'))\n",
    "                df = pd.concat([df, names_df[:200]]) # get 200 players\n",
    "                continue\n",
    "        for division in divisions:\n",
    "            print(division)\n",
    "            names_df = pd.DataFrame(get_players('kr', rank, division, page))[['summonerName', 'wins', 'losses']]\n",
    "            names_df['rank'] = (\"%s %s\" %(rank, division))\n",
    "            df = pd.concat([df, names_df[:200]]) # get 200 players\n",
    "\n",
    "print('done')"
   ]
  },
  {
   "cell_type": "code",
   "execution_count": 192,
   "metadata": {},
   "outputs": [],
   "source": [
    "# Filter for active players\n",
    "active_players = df[df['losses'] + df['wins'] > 100]"
   ]
  },
  {
   "cell_type": "code",
   "execution_count": 183,
   "metadata": {},
   "outputs": [],
   "source": [
    "# League of Legends playerbase rank distribution as percents\n",
    "rank_distribution = {\n",
    "    'IRON IV': 0.03,\n",
    "    'IRON III': 0.022,\n",
    "    'IRON II': 0.011,\n",
    "    'IRON I': 0.03,\n",
    "    'BRONZE IV': 0.053,\n",
    "    'BRONZE III': 0.047,\n",
    "    'BRONZE II': 0.045,\n",
    "    'BRONZE I': 0.036,\n",
    "    'SILVER IV': 0.057,\n",
    "    'SILVER III': 0.046,\n",
    "    'SILVER II': 0.043,\n",
    "    'SILVER I': 0.035,\n",
    "    'GOLD IV': 0.064,\n",
    "    'GOLD III': 0.048,\n",
    "    'GOLD II': 0.048,\n",
    "    'GOLD I': 0.04,\n",
    "    'PLATINUM IV': 0.071,\n",
    "    'PLATINUM III': 0.048,\n",
    "    'PLATINUM II': 0.041,\n",
    "    'PLATINUM I': 0.031,\n",
    "    'EMERALD IV': 0.06,\n",
    "    'EMERALD III': 0.029,\n",
    "    'EMERALD II': 0.02,\n",
    "    'EMERALD I': 0.012,\n",
    "    'DIAMOND IV': 0.021,\n",
    "    'DIAMOND III': 0.01,\n",
    "    'DIAMOND II': 0.0064,\n",
    "    'DIAMOND I': 0.0035,\n",
    "    'MASTER I': 0.0042,\n",
    "    'GRANDMASTER I': 0.0006,\n",
    "    'CHALLENGER I': 0.00023\n",
    "}"
   ]
  },
  {
   "cell_type": "code",
   "execution_count": 195,
   "metadata": {},
   "outputs": [],
   "source": [
    "# Need to filter this data to represent playerbase\n",
    "def player_distribution(distribution, data):\n",
    "    '''\n",
    "    Takes in players and returns a list with players proportional to distribution of ranks\n",
    "    '''\n",
    "    total_players = 720\n",
    "    df = pd.DataFrame()\n",
    "    for key, value in distribution.items():\n",
    "        rank_filter = (data['rank'] == key)\n",
    "        filtered_data = data[rank_filter]\n",
    "        if key in ['GRANDMASTER I', 'CHALLENGER I']: # Auto include 1 player from highest ranks\n",
    "            df = pd.concat([df, filtered_data['summonerName'].head(1)])\n",
    "        else:\n",
    "            num_players = round(value * total_players)\n",
    "            df = pd.concat([df, filtered_data['summonerName'].head(num_players)])\n",
    "    return df"
   ]
  },
  {
   "cell_type": "code",
   "execution_count": null,
   "metadata": {},
   "outputs": [],
   "source": [
    "# Export to CSV\n",
    "na_summonernames = player_distribution(rank_distribution, active_players).dropna()\n",
    "na_summonernames = na_summonernames.rename(columns = {0: 'summonerName'})\n",
    "na_summonernames.to_csv(r\"C:\\Users\\toirt\\LeagueOfLegendsPrediction\\data\\final_summoner_names.csv\", index = False)"
   ]
  }
 ],
 "metadata": {
  "kernelspec": {
   "display_name": "base",
   "language": "python",
   "name": "python3"
  },
  "language_info": {
   "codemirror_mode": {
    "name": "ipython",
    "version": 3
   },
   "file_extension": ".py",
   "mimetype": "text/x-python",
   "name": "python",
   "nbconvert_exporter": "python",
   "pygments_lexer": "ipython3",
   "version": "3.11.5"
  }
 },
 "nbformat": 4,
 "nbformat_minor": 2
}
