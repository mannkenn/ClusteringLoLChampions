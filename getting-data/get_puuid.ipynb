{
 "cells": [
  {
   "cell_type": "code",
   "execution_count": 2,
   "id": "6091afd2",
   "metadata": {},
   "outputs": [],
   "source": [
    "# Import goodies\n",
    "import requests\n",
    "import time\n",
    "import pandas as pd\n",
    "import os\n",
    "\n",
    "# API stuff\n",
    "api_key = os.environ.get('api_key')\n",
    "api_url = \"https://na1.api.riotgames.com/lol/summoner/v4/summoners/by-name\"\n",
    "\n",
    "# Import csv and turn into list\n",
    "df = pd.read_csv(r\"C:\\Users\\toirt\\LeagueOfLegendsPrediction\\data\\final_summoner_names.csv\")\n",
    "names_list = df['summonerName'].tolist()\n",
    "\n",
    "\n",
    "def get_puuid(api_key, api_url, summoner_name):\n",
    "    '''\n",
    "    Returns equivalent puuid of summoner name\n",
    "    '''\n",
    "    puuid_url = \"%s/%s?api_key=%s\" % (api_url, summoner_name, api_key)\n",
    "    \n",
    "    # Addressing rate limit (100 requests per 2 minutes)\n",
    "    while True:\n",
    "        resp = requests.get(puuid_url)\n",
    "        \n",
    "        if resp.status_code == 429:\n",
    "            time.sleep(10)\n",
    "            continue\n",
    "    \n",
    "        data = resp.json()\n",
    "        return data\n",
    "\n",
    "# Get puuids for all summoners\n",
    "puuids = []\n",
    "for name in names_list:\n",
    "    puuids.append(get_puuid(api_key, api_url, name)['puuid'])\n"
   ]
  },
  {
   "cell_type": "code",
   "execution_count": 3,
   "id": "f072d7c3",
   "metadata": {},
   "outputs": [],
   "source": [
    "# Export puuids as csv\n",
    "df = pd.DataFrame(puuids, columns = ['puuids'])\n",
    "df.to_csv(r\"C:\\Users\\toirt\\LeagueOfLegendsPrediction\\data\\puuids.csv\", index = False)"
   ]
  }
 ],
 "metadata": {
  "kernelspec": {
   "display_name": "Python 3 (ipykernel)",
   "language": "python",
   "name": "python3"
  },
  "language_info": {
   "codemirror_mode": {
    "name": "ipython",
    "version": 3
   },
   "file_extension": ".py",
   "mimetype": "text/x-python",
   "name": "python",
   "nbconvert_exporter": "python",
   "pygments_lexer": "ipython3",
   "version": "3.11.5"
  }
 },
 "nbformat": 4,
 "nbformat_minor": 5
}
