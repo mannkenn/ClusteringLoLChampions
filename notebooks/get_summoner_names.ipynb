{
 "cells": [
  {
   "cell_type": "code",
   "execution_count": 17,
   "id": "553031e9",
   "metadata": {},
   "outputs": [],
   "source": [
    "import requests\n",
    "import time\n",
    "import random\n",
    "import pandas as pd\n",
    "\n",
    "api_key = \"RGAPI-f94d7b60-268a-4736-b055-b9985cb37405\"\n",
    "api_url = \"https://na1.api.riotgames.com/lol/league-exp/v4/entries/RANKED_SOLO_5x5\"\n",
    "\n",
    "def get_players(rank, division, num_players):\n",
    "    '''\n",
    "    Returns summoner names of players with over 100 games played this season from specified rank and division\n",
    "    '''\n",
    "    players_url = (\"%s/%s/%s?page=1&api_key=%s\" % (api_url, rank, division, api_key))\n",
    "    resp = requests.get(players_url)\n",
    "    data = resp.json()\n",
    "    \n",
    "    # Filter for players with over 100 games played this season\n",
    "    active_players = [player['summonerName'] for player in data if player['wins'] + player['losses'] > 20]\n",
    "\n",
    "    return active_players[:num_players]\n",
    "\n",
    "ranks = ['IRON', 'BRONZE', 'SILVER', 'GOLD', 'PLATINUM', 'EMERALD', 'DIAMOND', 'MASTER', 'GRANDMASTER', 'CHALLENGER']\n",
    "divisions = ['IV', 'III', 'II', 'I']\n",
    "\n",
    "players = {}\n",
    "for rank in ranks:\n",
    "    if rank in ['MASTER', 'GRANDMASTER', 'CHALLENGER']:\n",
    "        players[\"%s %s\" %(rank,'I')] = get_players(rank, 'I', 50)\n",
    "        continue\n",
    "    for division in divisions:\n",
    "        players[\"%s %s\" %(rank, division)] = get_players(rank, division, 50)\n",
    "\n",
    "df = pd.DataFrame(players)"
   ]
  },
  {
   "cell_type": "code",
   "execution_count": 19,
   "id": "b0e82cde",
   "metadata": {},
   "outputs": [],
   "source": [
    "df.to_csv(r'C:\\Users\\toirt\\LeagueOfLegendsPrediction\\data\\summoner_names.csv', sep=',', index=False)"
   ]
  },
  {
   "cell_type": "code",
   "execution_count": null,
   "id": "513fed8c",
   "metadata": {},
   "outputs": [],
   "source": []
  }
 ],
 "metadata": {
  "kernelspec": {
   "display_name": "Python 3 (ipykernel)",
   "language": "python",
   "name": "python3"
  },
  "language_info": {
   "codemirror_mode": {
    "name": "ipython",
    "version": 3
   },
   "file_extension": ".py",
   "mimetype": "text/x-python",
   "name": "python",
   "nbconvert_exporter": "python",
   "pygments_lexer": "ipython3",
   "version": "3.11.5"
  }
 },
 "nbformat": 4,
 "nbformat_minor": 5
}
