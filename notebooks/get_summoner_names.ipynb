{
 "cells": [
  {
   "cell_type": "code",
   "execution_count": 17,
   "id": "553031e9",
   "metadata": {},
   "outputs": [],
   "source": [
    "# Import goodies\n",
    "import requests\n",
    "import time\n",
    "import random\n",
    "import pandas as pd\n",
    "\n",
    "api_key = \"INSERT HERE\"\n",
    "api_url = \"https://na1.api.riotgames.com/lol/league-exp/v4/entries/RANKED_SOLO_5x5\"\n",
    "\n",
    "def get_players(rank, division, num_players):\n",
    "    '''\n",
    "    Returns summoner names of players with over 20 games played this season from specified rank and division\n",
    "    '''\n",
    "    players_url = (\"%s/%s/%s?page=1&api_key=%s\" % (api_url, rank, division, api_key))\n",
    "    resp = requests.get(players_url)\n",
    "    data = resp.json()\n",
    "    \n",
    "    # Filter for players with over 100 games played this season\n",
    "    active_players = [player['summonerName'] for player in data if player['wins'] + player['losses'] > 20]\n",
    "\n",
    "    return active_players[:num_players]\n",
    "\n",
    "ranks = ['IRON', 'BRONZE', 'SILVER', 'GOLD', 'PLATINUM', 'EMERALD', 'DIAMOND', 'MASTER', 'GRANDMASTER', 'CHALLENGER']\n",
    "divisions = ['IV', 'III', 'II', 'I']\n",
    "\n",
    "# Get 50 players from each rank\n",
    "players = {}\n",
    "for rank in ranks:\n",
    "    if rank in ['MASTER', 'GRANDMASTER', 'CHALLENGER']: # High ranks only have division I\n",
    "        players[\"%s %s\" %(rank,'I')] = get_players(rank, 'I', 50) # Set default division to I for high ranks\n",
    "        continue\n",
    "    for division in divisions:\n",
    "        players[\"%s %s\" %(rank, division)] = get_players(rank, division, 50)"
   ]
  },
  {
   "cell_type": "code",
   "execution_count": 19,
   "id": "fb0268da",
   "metadata": {},
   "outputs": [],
   "source": [
    "# Export names as csv\n",
    "df = pd.DataFrame(players)\n",
    "df.to_csv(r'C:\\Users\\toirt\\LeagueOfLegendsPrediction\\data\\summoner_names.csv', sep=',', index=False)"
   ]
  }
 ],
 "metadata": {
  "kernelspec": {
   "display_name": "Python 3 (ipykernel)",
   "language": "python",
   "name": "python3"
  },
  "language_info": {
   "codemirror_mode": {
    "name": "ipython",
    "version": 3
   },
   "file_extension": ".py",
   "mimetype": "text/x-python",
   "name": "python",
   "nbconvert_exporter": "python",
   "pygments_lexer": "ipython3",
   "version": "3.11.5"
  }
 },
 "nbformat": 4,
 "nbformat_minor": 5
}
