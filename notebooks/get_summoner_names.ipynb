{
 "cells": [
  {
   "cell_type": "code",
   "execution_count": 1,
   "id": "553031e9",
   "metadata": {},
   "outputs": [
    {
     "ename": "TypeError",
     "evalue": "string indices must be integers, not 'str'",
     "output_type": "error",
     "traceback": [
      "\u001b[1;31m---------------------------------------------------------------------------\u001b[0m",
      "\u001b[1;31mTypeError\u001b[0m                                 Traceback (most recent call last)",
      "Cell \u001b[1;32mIn[1], line 37\u001b[0m\n\u001b[0;32m     35\u001b[0m     \u001b[38;5;28;01mcontinue\u001b[39;00m\n\u001b[0;32m     36\u001b[0m \u001b[38;5;28;01mfor\u001b[39;00m division \u001b[38;5;129;01min\u001b[39;00m divisions:\n\u001b[1;32m---> 37\u001b[0m     players[\u001b[38;5;124m\"\u001b[39m\u001b[38;5;132;01m%s\u001b[39;00m\u001b[38;5;124m \u001b[39m\u001b[38;5;132;01m%s\u001b[39;00m\u001b[38;5;124m\"\u001b[39m \u001b[38;5;241m%\u001b[39m(rank, division)] \u001b[38;5;241m=\u001b[39m get_players(rank, division, \u001b[38;5;241m50\u001b[39m)\n",
      "Cell \u001b[1;32mIn[1], line 20\u001b[0m, in \u001b[0;36mget_players\u001b[1;34m(rank, division, num_players)\u001b[0m\n\u001b[0;32m     17\u001b[0m data \u001b[38;5;241m=\u001b[39m resp\u001b[38;5;241m.\u001b[39mjson()\n\u001b[0;32m     19\u001b[0m \u001b[38;5;66;03m# Filter for players with over 100 games played this season\u001b[39;00m\n\u001b[1;32m---> 20\u001b[0m active_players \u001b[38;5;241m=\u001b[39m [player[\u001b[38;5;124m'\u001b[39m\u001b[38;5;124msummonerName\u001b[39m\u001b[38;5;124m'\u001b[39m] \u001b[38;5;28;01mfor\u001b[39;00m player \u001b[38;5;129;01min\u001b[39;00m data \u001b[38;5;28;01mif\u001b[39;00m player[\u001b[38;5;124m'\u001b[39m\u001b[38;5;124mwins\u001b[39m\u001b[38;5;124m'\u001b[39m] \u001b[38;5;241m+\u001b[39m player[\u001b[38;5;124m'\u001b[39m\u001b[38;5;124mlosses\u001b[39m\u001b[38;5;124m'\u001b[39m] \u001b[38;5;241m>\u001b[39m \u001b[38;5;241m20\u001b[39m]\n\u001b[0;32m     22\u001b[0m \u001b[38;5;28;01mreturn\u001b[39;00m active_players[:num_players]\n",
      "Cell \u001b[1;32mIn[1], line 20\u001b[0m, in \u001b[0;36m<listcomp>\u001b[1;34m(.0)\u001b[0m\n\u001b[0;32m     17\u001b[0m data \u001b[38;5;241m=\u001b[39m resp\u001b[38;5;241m.\u001b[39mjson()\n\u001b[0;32m     19\u001b[0m \u001b[38;5;66;03m# Filter for players with over 100 games played this season\u001b[39;00m\n\u001b[1;32m---> 20\u001b[0m active_players \u001b[38;5;241m=\u001b[39m [player[\u001b[38;5;124m'\u001b[39m\u001b[38;5;124msummonerName\u001b[39m\u001b[38;5;124m'\u001b[39m] \u001b[38;5;28;01mfor\u001b[39;00m player \u001b[38;5;129;01min\u001b[39;00m data \u001b[38;5;28;01mif\u001b[39;00m player[\u001b[38;5;124m'\u001b[39m\u001b[38;5;124mwins\u001b[39m\u001b[38;5;124m'\u001b[39m] \u001b[38;5;241m+\u001b[39m player[\u001b[38;5;124m'\u001b[39m\u001b[38;5;124mlosses\u001b[39m\u001b[38;5;124m'\u001b[39m] \u001b[38;5;241m>\u001b[39m \u001b[38;5;241m20\u001b[39m]\n\u001b[0;32m     22\u001b[0m \u001b[38;5;28;01mreturn\u001b[39;00m active_players[:num_players]\n",
      "\u001b[1;31mTypeError\u001b[0m: string indices must be integers, not 'str'"
     ]
    }
   ],
   "source": [
    "# Import goodies\n",
    "import requests\n",
    "import time\n",
    "import random\n",
    "import pandas as pd\n",
    "\n",
    "# api stuff\n",
    "api_key = \"INSERT HERE\"\n",
    "api_url = \"https://na1.api.riotgames.com/lol/league-exp/v4/entries/RANKED_SOLO_5x5\"\n",
    "\n",
    "def get_players(rank, division, num_players):\n",
    "    '''\n",
    "    Returns summoner names of players with over 20 games played this season from specified rank and division\n",
    "    '''\n",
    "    players_url = (\"%s/%s/%s?page=1&api_key=%s\" % (api_url, rank, division, api_key))\n",
    "    resp = requests.get(players_url)\n",
    "    data = resp.json()\n",
    "    \n",
    "    # Filter for players with over 100 games played this season\n",
    "    active_players = [player['summonerName'] for player in data if player['wins'] + player['losses'] > 20]\n",
    "\n",
    "    return active_players[:num_players]\n",
    "\n",
    "# All ranks and divisions in League of Legends\n",
    "ranks = ['IRON', 'BRONZE', 'SILVER', 'GOLD', 'PLATINUM', 'EMERALD', 'DIAMOND', 'MASTER', 'GRANDMASTER', 'CHALLENGER']\n",
    "divisions = ['IV', 'III', 'II', 'I']\n",
    "\n",
    "# Loop through all ranks and divisions and create dictionary with (rank + division) as key and list of players as value\n",
    "players = {}\n",
    "for rank in ranks:\n",
    "    if rank in ['MASTER', 'GRANDMASTER', 'CHALLENGER']: # High ranks only have division I\n",
    "        players[\"%s %s\" %(rank,'I')] = get_players(rank, 'I', 50) # Set default division to I for high ranks\n",
    "        continue\n",
    "    for division in divisions:\n",
    "        players[\"%s %s\" %(rank, division)] = get_players(rank, division, 50)"
   ]
  },
  {
   "cell_type": "code",
   "execution_count": 19,
   "id": "fb0268da",
   "metadata": {},
   "outputs": [],
   "source": [
    "# Export names as csv\n",
    "df = pd.DataFrame(players)\n",
    "df.to_csv(r'C:\\Users\\toirt\\LeagueOfLegendsPrediction\\data\\summoner_names.csv', sep=',', index=False)"
   ]
  }
 ],
 "metadata": {
  "kernelspec": {
   "display_name": "Python 3 (ipykernel)",
   "language": "python",
   "name": "python3"
  },
  "language_info": {
   "codemirror_mode": {
    "name": "ipython",
    "version": 3
   },
   "file_extension": ".py",
   "mimetype": "text/x-python",
   "name": "python",
   "nbconvert_exporter": "python",
   "pygments_lexer": "ipython3",
   "version": "3.11.5"
  }
 },
 "nbformat": 4,
 "nbformat_minor": 5
}
