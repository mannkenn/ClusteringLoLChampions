{
 "cells": [
  {
   "cell_type": "code",
   "execution_count": 14,
   "id": "bcb5085a",
   "metadata": {},
   "outputs": [
    {
     "data": {
      "text/html": [
       "<div>\n",
       "<style scoped>\n",
       "    .dataframe tbody tr th:only-of-type {\n",
       "        vertical-align: middle;\n",
       "    }\n",
       "\n",
       "    .dataframe tbody tr th {\n",
       "        vertical-align: top;\n",
       "    }\n",
       "\n",
       "    .dataframe thead th {\n",
       "        text-align: right;\n",
       "    }\n",
       "</style>\n",
       "<table border=\"1\" class=\"dataframe\">\n",
       "  <thead>\n",
       "    <tr style=\"text-align: right;\">\n",
       "      <th></th>\n",
       "      <th>match_id</th>\n",
       "    </tr>\n",
       "  </thead>\n",
       "  <tbody>\n",
       "    <tr>\n",
       "      <th>0</th>\n",
       "      <td>NA1_4924378131</td>\n",
       "    </tr>\n",
       "    <tr>\n",
       "      <th>1</th>\n",
       "      <td>NA1_4924264206</td>\n",
       "    </tr>\n",
       "    <tr>\n",
       "      <th>2</th>\n",
       "      <td>NA1_4923951725</td>\n",
       "    </tr>\n",
       "    <tr>\n",
       "      <th>3</th>\n",
       "      <td>NA1_4923834112</td>\n",
       "    </tr>\n",
       "    <tr>\n",
       "      <th>4</th>\n",
       "      <td>NA1_4923514356</td>\n",
       "    </tr>\n",
       "  </tbody>\n",
       "</table>\n",
       "</div>"
      ],
      "text/plain": [
       "         match_id\n",
       "0  NA1_4924378131\n",
       "1  NA1_4924264206\n",
       "2  NA1_4923951725\n",
       "3  NA1_4923834112\n",
       "4  NA1_4923514356"
      ]
     },
     "execution_count": 14,
     "metadata": {},
     "output_type": "execute_result"
    }
   ],
   "source": [
    "# import goodies\n",
    "import pandas as pd\n",
    "import requests\n",
    "import csv\n",
    "import time\n",
    "import os\n",
    "\n",
    "data = pd.read_csv(r\"C:\\Users\\toirt\\LeagueOfLegendsPrediction\\data\\match_ids.txt\", delimiter='\\t', header = None)\n",
    "df = pd.DataFrame(data)\n",
    "df.columns = ['match_id']\n",
    "df.shape # 71675 matches\n",
    "df.head()"
   ]
  },
  {
   "cell_type": "code",
   "execution_count": 16,
   "id": "054fbf21",
   "metadata": {},
   "outputs": [],
   "source": [
    "# Convert to list\n",
    "match_ids = df['match_id'].tolist()"
   ]
  },
  {
   "cell_type": "code",
   "execution_count": 17,
   "id": "0f3c1df3",
   "metadata": {},
   "outputs": [],
   "source": [
    "api_key = 'RGAPI-bc0592b8-b159-4785-aa9d-46da9e9e7e04'\n",
    "api_url = 'https://americas.api.riotgames.com/lol/match/v5/matches'\n",
    "file_path = r\"C:\\Users\\toirt\\LeagueOfLegendsPrediction\\data\\match_data.csv\"\n",
    "\n",
    "def get_match_data(api_key, api_url, match_id):\n",
    "    '''\n",
    "    Get match data from match_id\n",
    "    '''\n",
    "    match_url = '%s/%s?api_key=%s' %(api_url, match_id, api_key)\n",
    "    while True:\n",
    "        resp = requests.get(match_url)\n",
    "        \n",
    "        if resp.status_code == 429:\n",
    "            time.sleep(10)\n",
    "            continue\n",
    "    \n",
    "        data = resp.json()\n",
    "        return data"
   ]
  },
  {
   "cell_type": "code",
   "execution_count": 18,
   "id": "106863cf",
   "metadata": {},
   "outputs": [],
   "source": [
    "# Write to csv function\n",
    "def write_df_to_csv(df):\n",
    "    if not os.path.exists(file_path) or os.stat(file_path).st_size == 0:\n",
    "        df.to_csv(file_path, mode='w', index=False)  # Write with header\n",
    "    else:\n",
    "        df.to_csv(file_path, mode='a', header=False, index=False)"
   ]
  },
  {
   "cell_type": "code",
   "execution_count": 26,
   "id": "d51ae9db",
   "metadata": {},
   "outputs": [],
   "source": [
    "try:\n",
    "    for match_id in match_ids[0:10]:\n",
    "        df = pd.DataFrame(get_match_data(api_key, api_url, match_id)['info']['participants'])\n",
    "except KeyError:\n",
    "    print('error')\n",
    "    \n",
    "    "
   ]
  },
  {
   "cell_type": "code",
   "execution_count": 28,
   "id": "499e3926",
   "metadata": {},
   "outputs": [
    {
     "data": {
      "text/plain": [
       "(10, 142)"
      ]
     },
     "execution_count": 28,
     "metadata": {},
     "output_type": "execute_result"
    }
   ],
   "source": [
    "df.shape"
   ]
  },
  {
   "cell_type": "code",
   "execution_count": null,
   "id": "2edfbf0b",
   "metadata": {},
   "outputs": [
    {
     "name": "stdout",
     "output_type": "stream",
     "text": [
      "errortion: 980/71675\n",
      "error\n",
      "error\n",
      "error\n",
      "errortion: 1179/71675\n",
      "error\n",
      "error\n",
      "error\n",
      "error\n",
      "errortion: 1619/71675\n",
      "errortion: 1625/71675\n",
      "error\n",
      "errortion: 1638/71675\n",
      "error\n",
      "Iteration: 1771/71675\r"
     ]
    }
   ],
   "source": [
    "i = 0\n",
    "for match_id in match_ids:\n",
    "    try:\n",
    "        i += 1\n",
    "        df = pd.DataFrame(get_match_data(api_key, api_url, match_id)['info']['participants'])\n",
    "        write_df_to_csv(df)\n",
    "        print(f\"Iteration: {i}/{len(match_ids)}\", end='\\r')\n",
    "    except KeyError:\n",
    "        print('error')\n",
    "\n",
    "    "
   ]
  },
  {
   "cell_type": "code",
   "execution_count": null,
   "id": "eaf6b355",
   "metadata": {},
   "outputs": [],
   "source": []
  }
 ],
 "metadata": {
  "kernelspec": {
   "display_name": "Python 3 (ipykernel)",
   "language": "python",
   "name": "python3"
  },
  "language_info": {
   "codemirror_mode": {
    "name": "ipython",
    "version": 3
   },
   "file_extension": ".py",
   "mimetype": "text/x-python",
   "name": "python",
   "nbconvert_exporter": "python",
   "pygments_lexer": "ipython3",
   "version": "3.11.5"
  }
 },
 "nbformat": 4,
 "nbformat_minor": 5
}
