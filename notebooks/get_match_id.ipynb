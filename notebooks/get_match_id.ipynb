{
 "cells": [
  {
   "cell_type": "code",
   "execution_count": 1,
   "id": "cc2605c1",
   "metadata": {},
   "outputs": [],
   "source": [
    "# Import goodies\n",
    "import pandas as pd\n",
    "import numpy as np\n",
    "import requests\n",
    "import time"
   ]
  },
  {
   "cell_type": "code",
   "execution_count": 2,
   "id": "fd9a51df",
   "metadata": {},
   "outputs": [
    {
     "data": {
      "text/html": [
       "<div>\n",
       "<style scoped>\n",
       "    .dataframe tbody tr th:only-of-type {\n",
       "        vertical-align: middle;\n",
       "    }\n",
       "\n",
       "    .dataframe tbody tr th {\n",
       "        vertical-align: top;\n",
       "    }\n",
       "\n",
       "    .dataframe thead th {\n",
       "        text-align: right;\n",
       "    }\n",
       "</style>\n",
       "<table border=\"1\" class=\"dataframe\">\n",
       "  <thead>\n",
       "    <tr style=\"text-align: right;\">\n",
       "      <th></th>\n",
       "      <th>puuids</th>\n",
       "    </tr>\n",
       "  </thead>\n",
       "  <tbody>\n",
       "    <tr>\n",
       "      <th>0</th>\n",
       "      <td>tDtoF7zl88vTRXVf1t2112OZNtuM4jf8FwSTq7heQwYZ1a...</td>\n",
       "    </tr>\n",
       "    <tr>\n",
       "      <th>1</th>\n",
       "      <td>kuMdfmijI6u2uTKZa0iUuFVcLNbza-j318r0T5Fv35xrqD...</td>\n",
       "    </tr>\n",
       "    <tr>\n",
       "      <th>2</th>\n",
       "      <td>b7_pos8sESW8jzaadYSIZK9hlmKBtKLe9xBDfn0X08Iixg...</td>\n",
       "    </tr>\n",
       "    <tr>\n",
       "      <th>3</th>\n",
       "      <td>1bjHAMAbo6KZxq8FDOLU38npejRgcvLSRFnBfEoQzck_VG...</td>\n",
       "    </tr>\n",
       "    <tr>\n",
       "      <th>4</th>\n",
       "      <td>jbJ7ZsBH2KPRD3qoM5Hw4UXJgJbMKxxIgj_zEUDuQAsYqx...</td>\n",
       "    </tr>\n",
       "  </tbody>\n",
       "</table>\n",
       "</div>"
      ],
      "text/plain": [
       "                                              puuids\n",
       "0  tDtoF7zl88vTRXVf1t2112OZNtuM4jf8FwSTq7heQwYZ1a...\n",
       "1  kuMdfmijI6u2uTKZa0iUuFVcLNbza-j318r0T5Fv35xrqD...\n",
       "2  b7_pos8sESW8jzaadYSIZK9hlmKBtKLe9xBDfn0X08Iixg...\n",
       "3  1bjHAMAbo6KZxq8FDOLU38npejRgcvLSRFnBfEoQzck_VG...\n",
       "4  jbJ7ZsBH2KPRD3qoM5Hw4UXJgJbMKxxIgj_zEUDuQAsYqx..."
      ]
     },
     "execution_count": 2,
     "metadata": {},
     "output_type": "execute_result"
    }
   ],
   "source": [
    "data = pd.read_csv(r\"C:\\Users\\toirt\\LeagueOfLegendsPrediction\\data\\puuids.csv\")\n",
    "df = pd.DataFrame(data)\n",
    "puuids_list = df['puuids'].tolist()\n",
    "df.head()"
   ]
  },
  {
   "cell_type": "code",
   "execution_count": 3,
   "id": "b47f5630",
   "metadata": {},
   "outputs": [],
   "source": [
    "api_key = 'RGAPI-23718857-d5b2-4c38-bdb9-2a6f9793cf47'\n",
    "api_url = 'https://americas.api.riotgames.com/lol/match/v5/matches/by-puuid'"
   ]
  },
  {
   "cell_type": "code",
   "execution_count": 4,
   "id": "8fd89668",
   "metadata": {},
   "outputs": [],
   "source": [
    "def get_match_id(api_key, api_url, puuid, count):\n",
    "    '''\n",
    "    Get match id from player puuid \n",
    "    Count -> number of match ids to return\n",
    "    '''\n",
    "    match_url = '%s/%s/ids?type=ranked&start=0&count=%d&api_key=%s' %(api_url, puuid, count, api_key)\n",
    "    while True:\n",
    "        resp = requests.get(match_url)\n",
    "        \n",
    "        if resp.status_code == 429:\n",
    "            print('Sleepn')\n",
    "            time.sleep(10)\n",
    "            continue\n",
    "    \n",
    "        data = resp.json()\n",
    "        return data"
   ]
  },
  {
   "cell_type": "code",
   "execution_count": null,
   "id": "6c86cdf8",
   "metadata": {},
   "outputs": [
    {
     "name": "stdout",
     "output_type": "stream",
     "text": [
      "Sleepn\n",
      "Sleepn\n",
      "Sleepn\n",
      "Sleepn\n",
      "Sleepn\n",
      "Sleepn\n",
      "Sleepn\n",
      "Sleepn\n",
      "Sleepn\n",
      "Sleepn\n",
      "Sleepn\n",
      "Sleepn\n",
      "Sleepn\n",
      "Sleepn\n",
      "Sleepn\n",
      "Sleepn\n",
      "Sleepn\n",
      "Sleepn\n",
      "Sleepn\n",
      "Sleepn\n",
      "Sleepn\n",
      "Sleepn\n",
      "Sleepn\n",
      "Sleepn\n",
      "Sleepn\n",
      "Sleepn\n",
      "Sleepn\n",
      "Sleepn\n"
     ]
    }
   ],
   "source": [
    "with open(r\"C:\\Users\\toirt\\LeagueOfLegendsPrediction\\data\\match_ids.txt\", 'a') as f:\n",
    "    for puuid in puuids_list:\n",
    "        for match in get_match_id(api_key, api_url, puuid, 100):\n",
    "            f.write(match + '\\n')"
   ]
  },
  {
   "cell_type": "code",
   "execution_count": null,
   "id": "948a648f",
   "metadata": {},
   "outputs": [],
   "source": []
  }
 ],
 "metadata": {
  "kernelspec": {
   "display_name": "Python 3 (ipykernel)",
   "language": "python",
   "name": "python3"
  },
  "language_info": {
   "codemirror_mode": {
    "name": "ipython",
    "version": 3
   },
   "file_extension": ".py",
   "mimetype": "text/x-python",
   "name": "python",
   "nbconvert_exporter": "python",
   "pygments_lexer": "ipython3",
   "version": "3.11.5"
  }
 },
 "nbformat": 4,
 "nbformat_minor": 5
}
