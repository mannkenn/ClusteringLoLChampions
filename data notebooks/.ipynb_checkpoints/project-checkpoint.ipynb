{
 "cells": [
  {
   "cell_type": "code",
   "execution_count": 1,
   "id": "94edf9d1",
   "metadata": {},
   "outputs": [],
   "source": [
    "api_key = \"RGAPI-47322cd4-0159-48ab-a5c9-34df1fcbe14b\""
   ]
  },
  {
   "cell_type": "code",
   "execution_count": 2,
   "id": "dd6207ad",
   "metadata": {},
   "outputs": [],
   "source": [
    "api_url = \"https://na1.api.riotgames.com/lol/summoner/v4/summoners/by-name/colin%20ross\""
   ]
  },
  {
   "cell_type": "code",
   "execution_count": 3,
   "id": "b2a16ed7",
   "metadata": {},
   "outputs": [],
   "source": [
    "import requests"
   ]
  },
  {
   "cell_type": "code",
   "execution_count": 4,
   "id": "d428e870",
   "metadata": {},
   "outputs": [],
   "source": [
    "api_url = api_url + '?api_key=' + api_key"
   ]
  },
  {
   "cell_type": "code",
   "execution_count": 5,
   "id": "3a61d0fb",
   "metadata": {},
   "outputs": [
    {
     "data": {
      "text/plain": [
       "<Response [200]>"
      ]
     },
     "execution_count": 5,
     "metadata": {},
     "output_type": "execute_result"
    }
   ],
   "source": [
    "requests.get(api_url)"
   ]
  },
  {
   "cell_type": "raw",
   "id": "33492eaf",
   "metadata": {},
   "source": []
  }
 ],
 "metadata": {
  "kernelspec": {
   "display_name": "Python 3 (ipykernel)",
   "language": "python",
   "name": "python3"
  },
  "language_info": {
   "codemirror_mode": {
    "name": "ipython",
    "version": 3
   },
   "file_extension": ".py",
   "mimetype": "text/x-python",
   "name": "python",
   "nbconvert_exporter": "python",
   "pygments_lexer": "ipython3",
   "version": "3.11.5"
  }
 },
 "nbformat": 4,
 "nbformat_minor": 5
}
