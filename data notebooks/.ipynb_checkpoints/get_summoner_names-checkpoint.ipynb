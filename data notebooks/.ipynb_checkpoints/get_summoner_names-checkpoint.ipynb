{
 "cells": [
  {
   "cell_type": "code",
   "execution_count": 78,
   "id": "553031e9",
   "metadata": {},
   "outputs": [
    {
     "name": "stdout",
     "output_type": "stream",
     "text": [
      "IRON\n",
      "IRON I\n"
     ]
    },
    {
     "ename": "TypeError",
     "evalue": "string indices must be integers, not 'str'",
     "output_type": "error",
     "traceback": [
      "\u001b[1;31m---------------------------------------------------------------------------\u001b[0m",
      "\u001b[1;31mTypeError\u001b[0m                                 Traceback (most recent call last)",
      "Cell \u001b[1;32mIn[78], line 49\u001b[0m\n\u001b[0;32m     47\u001b[0m     \u001b[38;5;28;01mfor\u001b[39;00m division \u001b[38;5;129;01min\u001b[39;00m divisions:\n\u001b[0;32m     48\u001b[0m         \u001b[38;5;28mprint\u001b[39m(rank, division)\n\u001b[1;32m---> 49\u001b[0m         p \u001b[38;5;241m=\u001b[39m get_players(rank, division)\n\u001b[0;32m     50\u001b[0m         players\u001b[38;5;241m.\u001b[39mappend(p)\n\u001b[0;32m     52\u001b[0m \u001b[38;5;28mprint\u001b[39m(players)\n",
      "Cell \u001b[1;32mIn[78], line 19\u001b[0m, in \u001b[0;36mget_players\u001b[1;34m(rank, division)\u001b[0m\n\u001b[0;32m     16\u001b[0m data \u001b[38;5;241m=\u001b[39m resp\u001b[38;5;241m.\u001b[39mjson()\n\u001b[0;32m     18\u001b[0m \u001b[38;5;66;03m# Filter for players with over 100 games played this season\u001b[39;00m\n\u001b[1;32m---> 19\u001b[0m active_players \u001b[38;5;241m=\u001b[39m [player[\u001b[38;5;124m'\u001b[39m\u001b[38;5;124msummonerName\u001b[39m\u001b[38;5;124m'\u001b[39m] \u001b[38;5;28;01mfor\u001b[39;00m player \u001b[38;5;129;01min\u001b[39;00m data \u001b[38;5;28;01mif\u001b[39;00m player[\u001b[38;5;124m'\u001b[39m\u001b[38;5;124mwins\u001b[39m\u001b[38;5;124m'\u001b[39m] \u001b[38;5;241m+\u001b[39m player[\u001b[38;5;124m'\u001b[39m\u001b[38;5;124mlosses\u001b[39m\u001b[38;5;124m'\u001b[39m] \u001b[38;5;241m>\u001b[39m \u001b[38;5;241m100\u001b[39m]\n\u001b[0;32m     22\u001b[0m \u001b[38;5;28;01mreturn\u001b[39;00m active_players\n",
      "Cell \u001b[1;32mIn[78], line 19\u001b[0m, in \u001b[0;36m<listcomp>\u001b[1;34m(.0)\u001b[0m\n\u001b[0;32m     16\u001b[0m data \u001b[38;5;241m=\u001b[39m resp\u001b[38;5;241m.\u001b[39mjson()\n\u001b[0;32m     18\u001b[0m \u001b[38;5;66;03m# Filter for players with over 100 games played this season\u001b[39;00m\n\u001b[1;32m---> 19\u001b[0m active_players \u001b[38;5;241m=\u001b[39m [player[\u001b[38;5;124m'\u001b[39m\u001b[38;5;124msummonerName\u001b[39m\u001b[38;5;124m'\u001b[39m] \u001b[38;5;28;01mfor\u001b[39;00m player \u001b[38;5;129;01min\u001b[39;00m data \u001b[38;5;28;01mif\u001b[39;00m player[\u001b[38;5;124m'\u001b[39m\u001b[38;5;124mwins\u001b[39m\u001b[38;5;124m'\u001b[39m] \u001b[38;5;241m+\u001b[39m player[\u001b[38;5;124m'\u001b[39m\u001b[38;5;124mlosses\u001b[39m\u001b[38;5;124m'\u001b[39m] \u001b[38;5;241m>\u001b[39m \u001b[38;5;241m100\u001b[39m]\n\u001b[0;32m     22\u001b[0m \u001b[38;5;28;01mreturn\u001b[39;00m active_players\n",
      "\u001b[1;31mTypeError\u001b[0m: string indices must be integers, not 'str'"
     ]
    }
   ],
   "source": [
    "import requests\n",
    "import time\n",
    "import random\n",
    "\n",
    "api_key = \"INSERT HERE\"\n",
    "api_url = \"https://na1.api.riotgames.com/lol/league-exp/v4/entries/RANKED_SOLO_5x5\"\n",
    "\n",
    "\n",
    "def get_players(rank, division):\n",
    "    '''\n",
    "    Returns summoner names of players with over 100 games played this season from specified rank and division\n",
    "    '''\n",
    "    players_url = (\"%s/%s/%s?page=1&api_key=%s\" % (api_url, rank, division, api_key)\n",
    "    )\n",
    "    resp = requests.get(players_url)\n",
    "    data = resp.json()\n",
    "    \n",
    "    # Filter for players with over 100 games played this season\n",
    "    active_players = [player['summonerName'] for player in data if player['wins'] + player['losses'] > 100]\n",
    "\n",
    "    \n",
    "    return active_players\n",
    "\n",
    "# rank_distribution = {\n",
    "#     'Iron': {'IV':0.51, 'III':1.1, 'II':2.2, 'I':3.0}\n",
    "#     'Bronze': {'IV':5.3, 'III':4.7, 'II':4.5, 'I': 3.6}\n",
    "#     'Silver': {'IV':5.7, 'III':4.6, 'II':4.3, 'I':3.5}\n",
    "#     'Gold': {'IV':4.0, 'III':4.8, 'II':4.8, 'I':4.0}\n",
    "#     'Platinum': {'IV':7.1, 'III':4.8, 'II':4.1, 'I':3.1}\n",
    "#     'Emerald': {'IV':6.0, 'III':2.9, 'II':2.0, 'I':1.2}\n",
    "#     'Diamond': {'IV':2.1, 'III':1.0, 'II':0.64, 'I':0.35}\n",
    "#     'Master': {'I':0.41}\n",
    "#     'Grandmaster': {'I':0.060}\n",
    "#     'Challenger': {'I':0.022}\n",
    "# }\n",
    "ranks = ['IRON', 'BRONZE']\n",
    "divisions = ['I', 'II', 'III', 'IV']\n",
    "\n",
    "# def rank_distribution(ranks, divisions):\n",
    "#     random_division = random.choice(divisions)\n",
    "\n",
    "# 'SILVER', 'GOLD', 'PLATINUM', 'EMERALD', 'DIAMOND', 'MASTER', 'GRANDMASTER', 'CHALLENGER'\n",
    "\n",
    "players = []\n",
    "for rank in ranks:\n",
    "    print(rank)\n",
    "    for division in divisions:\n",
    "        print(rank, division)\n",
    "        p = get_players(rank, division)\n",
    "        players.append(p)\n",
    "        \n",
    "print(players)    \n",
    "\n"
   ]
  },
  {
   "cell_type": "code",
   "execution_count": null,
   "id": "695f8153",
   "metadata": {},
   "outputs": [],
   "source": []
  }
 ],
 "metadata": {
  "kernelspec": {
   "display_name": "Python 3 (ipykernel)",
   "language": "python",
   "name": "python3"
  },
  "language_info": {
   "codemirror_mode": {
    "name": "ipython",
    "version": 3
   },
   "file_extension": ".py",
   "mimetype": "text/x-python",
   "name": "python",
   "nbconvert_exporter": "python",
   "pygments_lexer": "ipython3",
   "version": "3.11.5"
  }
 },
 "nbformat": 4,
 "nbformat_minor": 5
}
